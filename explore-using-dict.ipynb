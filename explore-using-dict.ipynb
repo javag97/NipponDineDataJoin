{
 "cells": [
  {
   "cell_type": "code",
   "execution_count": 10,
   "id": "27a855d8-4c99-47e9-ac05-94e80e8a465a",
   "metadata": {},
   "outputs": [],
   "source": [
    "import csv\n",
    "import json"
   ]
  },
  {
   "cell_type": "code",
   "execution_count": 60,
   "id": "200df3d3-9987-40a7-82e8-edcc6d25bd25",
   "metadata": {},
   "outputs": [],
   "source": [
    "def parse_csv(file_path):\n",
    "    '''\n",
    "    dictReader uses first column as key. Make sure that value is unique\n",
    "    '''\n",
    "    my_dict = { }\n",
    "\n",
    "    with open(file_path, newline='', encoding='utf-8') as csvfile:\n",
    "        reader = csv.DictReader(csvfile)\n",
    "        first = reader.fieldnames[0]\n",
    "        for row in reader:\n",
    "            my_dict[row.pop(first)] = row \n",
    "    return my_dict\n",
    "                "
   ]
  },
  {
   "cell_type": "code",
   "execution_count": 12,
   "id": "be5bf5fb-a5b5-4ebc-bfb6-749e0db0abe1",
   "metadata": {},
   "outputs": [],
   "source": [
    "def parse_json(file_path):\n",
    "    with open(file_path, 'r', encoding='utf-8') as jsonfile:\n",
    "        return json.load(jsonfile)"
   ]
  },
  {
   "cell_type": "code",
   "execution_count": 13,
   "id": "fc79ee21-df3f-4b69-9e0e-30dc3a7b40f9",
   "metadata": {},
   "outputs": [],
   "source": [
    "def write_json(data, file_path):\n",
    "    with open(file_path, 'w', encoding='utf-8') as file:\n",
    "        json.dump(data, file, indent=4)"
   ]
  },
  {
   "cell_type": "code",
   "execution_count": 14,
   "id": "403612e1-d6e2-4cfd-adf3-c9e0a712028c",
   "metadata": {},
   "outputs": [],
   "source": [
    "def merge_json(file_path1, file_path2, output_file_path):\n",
    "    data1 = read_json(file_path1)\n",
    "    data2 = read_json(file_path2)\n",
    "\n",
    "    merged_data = data1 + data2\n",
    "\n",
    "    write_json(merged_data, output_file_path)    "
   ]
  },
  {
   "cell_type": "code",
   "execution_count": 4,
   "id": "7127ad48-eb23-4727-a4bd-32658ff4064a",
   "metadata": {},
   "outputs": [],
   "source": [
    "def join_csv_json(csv_data, json_data, key):\n",
    "    joined_data = []\n",
    "\n",
    "    # Convert JSON data to a set for faster lookup\n",
    "    zip_set = set()\n",
    "    for zip_group in json_data:\n",
    "        for zip_code in zip_group.split(', '):\n",
    "            zip_set.add(zip_code.strip())\n",
    "\n",
    "    # Iterate through CSV data and join\n",
    "    for row in csv_data:\n",
    "        if row[key] in zip_set:\n",
    "            joined_data.append(row)\n",
    "\n",
    "    return joined_data"
   ]
  },
  {
   "cell_type": "code",
   "execution_count": 61,
   "id": "bf1b8a53-9e4f-40a6-91ff-4498816d6f6f",
   "metadata": {},
   "outputs": [
    {
     "data": {
      "text/plain": [
       "{'50': {'name': 'Shogun of La Jolla',\n",
       "  'address': 'Shogun of La Jolla, 9500 Gilman Dr, La Jolla, CA 92093',\n",
       "  'avg_rating': '3.4',\n",
       "  'zip': '92093',\n",
       "  'categories': '{\"Japanese restaurant\"}',\n",
       "  'city': 'La Jolla'},\n",
       " '157': {'name': \"James' Place Prime Seafood Sushi\",\n",
       "  'address': \"James' Place Prime Seafood Sushi, 2910 La Jolla Village Dr, La Jolla, CA 92093\",\n",
       "  'avg_rating': '4.5',\n",
       "  'zip': '92093',\n",
       "  'categories': '{\"Sushi restaurant\",Restaurant}',\n",
       "  'city': 'La Jolla'},\n",
       " '244': {'name': 'The Bistro at the Strand',\n",
       "  'address': 'The Bistro at the Strand, 9500 Gilman Dr, La Jolla, CA 92093',\n",
       "  'avg_rating': '3.8',\n",
       "  'zip': '92093',\n",
       "  'categories': '{\"Asian fusion restaurant\",\"Asian restaurant\",\"Sushi restaurant\"}',\n",
       "  'city': 'La Jolla'}}"
      ]
     },
     "execution_count": 61,
     "metadata": {},
     "output_type": "execute_result"
    }
   ],
   "source": [
    "csv_data = parse_csv('result.csv')\n",
    "\n",
    "csv_data"
   ]
  },
  {
   "cell_type": "code",
   "execution_count": 62,
   "id": "734b4e50-c917-4667-a1a0-9556f86b4566",
   "metadata": {},
   "outputs": [
    {
     "data": {
      "text/plain": [
       "['92128, 92129',\n",
       " '92025, 92029, 92064, 92067, 92127, 92128',\n",
       " '92064, 92131, 92145',\n",
       " '92128, 92129, 92131']"
      ]
     },
     "execution_count": 62,
     "metadata": {},
     "output_type": "execute_result"
    }
   ],
   "source": [
    "json_data = parse_json('result.json') \n",
    "json_data"
   ]
  },
  {
   "cell_type": "code",
   "execution_count": 55,
   "id": "7ea3132a-c51d-4489-aa7e-dbfd501df3fe",
   "metadata": {},
   "outputs": [
    {
     "data": {
      "text/plain": [
       "dict"
      ]
     },
     "execution_count": 55,
     "metadata": {},
     "output_type": "execute_result"
    }
   ],
   "source": [
    "type(csv_data)"
   ]
  },
  {
   "cell_type": "code",
   "execution_count": 52,
   "id": "9da28d83-3cca-47e6-9119-aa50fb6b24e4",
   "metadata": {},
   "outputs": [],
   "source": [
    "test= ['name', 'address', 'avg_rating', 'zip', 'categories', 'city']\n",
    "row = {'id': '157', 'name': \"James' Place Prime Seafood Sushi\", 'address': \"James' Place Prime Seafood Sushi, 2910 La Jolla Village Dr, La Jolla, CA 92093\", 'avg_rating': '4.5', 'zip': '92093', 'categories': '{\"Sushi restaurant\",Restaurant}', 'city': 'La Jolla'}\n"
   ]
  },
  {
   "cell_type": "code",
   "execution_count": null,
   "id": "479c1ff3-cfb7-4dd7-8b37-2d5b09e8f16d",
   "metadata": {},
   "outputs": [],
   "source": []
  },
  {
   "cell_type": "code",
   "execution_count": null,
   "id": "8e469eda-b588-4759-8de0-bb3a55155970",
   "metadata": {},
   "outputs": [],
   "source": [
    "joined_data = join_csv_json(csv_data, json_data, 'zip')"
   ]
  },
  {
   "cell_type": "code",
   "execution_count": 5,
   "id": "fa76a2f7-6aa3-49b6-b22b-b63e08030d39",
   "metadata": {},
   "outputs": [],
   "source": [
    "# csv_data = parse_csv('nourish_public_ca_business.csv')\n",
    "# json_data = parse_json('result.json') \n",
    "\n",
    "# joined_data = join_csv_json(csv_data, json_data, 'zip')"
   ]
  },
  {
   "cell_type": "code",
   "execution_count": 8,
   "id": "1674a335-7b30-4990-b238-af17d8552a0c",
   "metadata": {},
   "outputs": [],
   "source": [
    "## all entries near Poway, but not including Poway\n",
    "# joined_data"
   ]
  },
  {
   "cell_type": "code",
   "execution_count": null,
   "id": "de0e48cf-6f7d-4052-9650-9334c2741069",
   "metadata": {},
   "outputs": [],
   "source": []
  }
 ],
 "metadata": {
  "kernelspec": {
   "display_name": "Python 3 (ipykernel)",
   "language": "python",
   "name": "python3"
  },
  "language_info": {
   "codemirror_mode": {
    "name": "ipython",
    "version": 3
   },
   "file_extension": ".py",
   "mimetype": "text/x-python",
   "name": "python",
   "nbconvert_exporter": "python",
   "pygments_lexer": "ipython3",
   "version": "3.9.12"
  }
 },
 "nbformat": 4,
 "nbformat_minor": 5
}
